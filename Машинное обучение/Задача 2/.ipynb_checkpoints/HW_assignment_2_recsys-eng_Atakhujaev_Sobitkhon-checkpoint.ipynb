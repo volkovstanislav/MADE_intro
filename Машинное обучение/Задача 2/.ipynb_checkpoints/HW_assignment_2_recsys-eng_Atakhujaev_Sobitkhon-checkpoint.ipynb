{
 "cells": [
  {
   "cell_type": "markdown",
   "metadata": {
    "collapsed": true
   },
   "source": [
    "# Homework 2\n",
    "\n",
    "Author: Dmitry Ignatov, lecturer.\n",
    "\n",
    "\n",
    "Your report (as ipython-notebook preferebaly) should be prepared by June 17.\n",
    "\n",
    "The letter with the report should be sent to these emails: dmitrii.ignatov@gmail.com, ivannnnz@gmail.com, and  to.dmitry.petrov@gmail.com. The topic of the letter must have the following format [CS-ML2016m-HW2]-LAST NAME-FIRST NAME.\n",
    "\n",
    "Max mark is 10.\n",
    "\n",
    "You can use the material below for all purposes except of commercial. All the code examples can be also found in Toby Segaran book 'Programming Collective Intelligence' (chaper 2):  http://shop.oreilly.com/product/9780596529321.do\n",
    "\n",
    "The two required tasks are given at the end of the file.\n"
   ]
  },
  {
   "cell_type": "markdown",
   "metadata": {},
   "source": [
    "## Dictionary with users' preferences"
   ]
  },
  {
   "cell_type": "code",
   "execution_count": 1,
   "metadata": {
    "collapsed": true
   },
   "outputs": [],
   "source": [
    "# A dictionary of movie critics and their ratings of a small\n",
    "# set of movies\n",
    "critics={'Lisa Rose': {'Lady in the Water': 2.5, 'Snakes on a Plane': 3.5,\n",
    " 'Just My Luck': 3.0, 'Superman Returns': 3.5, 'You, Me and Dupree': 2.5, \n",
    " 'The Night Listener': 3.0},\n",
    "'Gene Seymour': {'Lady in the Water': 3.0, 'Snakes on a Plane': 3.5, \n",
    " 'Just My Luck': 1.5, 'Superman Returns': 5.0, 'The Night Listener': 3.0, \n",
    " 'You, Me and Dupree': 3.5}, \n",
    "'Michael Phillips': {'Lady in the Water': 2.5, 'Snakes on a Plane': 3.0,\n",
    " 'Superman Returns': 3.5, 'The Night Listener': 4.0},\n",
    "'Claudia Puig': {'Snakes on a Plane': 3.5, 'Just My Luck': 3.0,\n",
    " 'The Night Listener': 4.5, 'Superman Returns': 4.0, \n",
    " 'You, Me and Dupree': 2.5},\n",
    "'Mick LaSalle': {'Lady in the Water': 3.0, 'Snakes on a Plane': 4.0, \n",
    " 'Just My Luck': 2.0, 'Superman Returns': 3.0, 'The Night Listener': 3.0,\n",
    " 'You, Me and Dupree': 2.0}, \n",
    "'Jack Matthews': {'Lady in the Water': 3.0, 'Snakes on a Plane': 4.0,\n",
    " 'The Night Listener': 3.0, 'Superman Returns': 5.0, 'You, Me and Dupree': 3.5},\n",
    "'Toby': {'Snakes on a Plane':4.5,'You, Me and Dupree':1.0,'Superman Returns':4.0}}\n"
   ]
  },
  {
   "cell_type": "code",
   "execution_count": 2,
   "metadata": {
    "collapsed": false
   },
   "outputs": [
    {
     "data": {
      "text/plain": [
       "{'Snakes on a Plane': 4.5, 'Superman Returns': 4.0, 'You, Me and Dupree': 1.0}"
      ]
     },
     "execution_count": 2,
     "metadata": {},
     "output_type": "execute_result"
    }
   ],
   "source": [
    "critics['Toby']"
   ]
  },
  {
   "cell_type": "code",
   "execution_count": 3,
   "metadata": {
    "collapsed": false
   },
   "outputs": [
    {
     "data": {
      "text/plain": [
       "2.5"
      ]
     },
     "execution_count": 3,
     "metadata": {},
     "output_type": "execute_result"
    }
   ],
   "source": [
    "critics['Lisa Rose']['Lady in the Water']\n"
   ]
  },
  {
   "cell_type": "code",
   "execution_count": 4,
   "metadata": {
    "collapsed": false
   },
   "outputs": [
    {
     "data": {
      "text/plain": [
       "3.1622776601683795"
      ]
     },
     "execution_count": 4,
     "metadata": {},
     "output_type": "execute_result"
    }
   ],
   "source": [
    "#Claculate Euclidean distance\n",
    "from math import sqrt\n",
    "sqrt(pow(5-4,2)+pow(4-1,2))\n"
   ]
  },
  {
   "cell_type": "code",
   "execution_count": 5,
   "metadata": {
    "collapsed": false
   },
   "outputs": [
    {
     "data": {
      "text/plain": [
       "0.2402530733520421"
      ]
     },
     "execution_count": 5,
     "metadata": {},
     "output_type": "execute_result"
    }
   ],
   "source": [
    "#Transform distance to similarity\n",
    "1/(1+sqrt(pow(5-4,2)+pow(4-1,2)))\n"
   ]
  },
  {
   "cell_type": "code",
   "execution_count": 6,
   "metadata": {
    "collapsed": false
   },
   "outputs": [],
   "source": [
    "from math import sqrt\n",
    "# Returns a distance-based similarity score for person1 and person2\n",
    "def sim_distance(prefs,person1,person2):\n",
    "# Get the list of shared_items\n",
    "    si={}\n",
    "    for item in prefs[person1]:\n",
    "        if item in prefs[person2]:\n",
    "            si[item]=1\n",
    "# if they have no ratings in common, return 0\n",
    "    if len(si)==0: return 0\n",
    "# Add up the squares of all the differences\n",
    "    sum_of_squares=sum([pow(prefs[person1][item]-prefs[person2][item],2)\n",
    "    for item in prefs[person1] if item in prefs[person2]])\n",
    "    return 1/(1+sum_of_squares)\n"
   ]
  },
  {
   "cell_type": "code",
   "execution_count": 7,
   "metadata": {
    "collapsed": false
   },
   "outputs": [
    {
     "data": {
      "text/plain": [
       "0.14814814814814814"
      ]
     },
     "execution_count": 7,
     "metadata": {},
     "output_type": "execute_result"
    }
   ],
   "source": [
    "sim_distance(critics, 'Lisa Rose','Gene Seymour')"
   ]
  },
  {
   "cell_type": "code",
   "execution_count": 8,
   "metadata": {
    "collapsed": true
   },
   "outputs": [],
   "source": [
    "# Returns the Pearson correlation coefficient for p1 and p2\n",
    "def sim_pearson(prefs,p1,p2):\n",
    "# Get the list of mutually rated items\n",
    "    si={}\n",
    "    for item in prefs[p1]: \n",
    "        if item in prefs[p2]: si[item]=1\n",
    "\n",
    "    # if they have no ratings in common, return 0\n",
    "    if len(si)==0: return 0\n",
    "\n",
    "    # Sum calculations\n",
    "    n=len(si)\n",
    "  \n",
    "    # Sums of all the preferences\n",
    "    sum1=sum([prefs[p1][it] for it in si])\n",
    "    sum2=sum([prefs[p2][it] for it in si])\n",
    "  \n",
    "    # Sums of the squares\n",
    "    sum1Sq=sum([pow(prefs[p1][it],2) for it in si])\n",
    "    sum2Sq=sum([pow(prefs[p2][it],2) for it in si])\t\n",
    "  \n",
    "    # Sum of the products\n",
    "    pSum=sum([prefs[p1][it]*prefs[p2][it] for it in si])\n",
    "  \n",
    "    # Calculate r (Pearson score)\n",
    "    num=pSum-(sum1*sum2/n)\n",
    "    den=sqrt((sum1Sq-pow(sum1,2)/n)*(sum2Sq-pow(sum2,2)/n))\n",
    "    if den==0: return 0\n",
    "\n",
    "    r=num/den\n",
    "\n",
    "    return r"
   ]
  },
  {
   "cell_type": "code",
   "execution_count": 9,
   "metadata": {
    "collapsed": false
   },
   "outputs": [
    {
     "data": {
      "text/plain": [
       "0.39605901719066977"
      ]
     },
     "execution_count": 9,
     "metadata": {},
     "output_type": "execute_result"
    }
   ],
   "source": [
    "sim_pearson(critics,'Lisa Rose','Gene Seymour')\n"
   ]
  },
  {
   "cell_type": "markdown",
   "metadata": {},
   "source": [
    "## Ranking of critics"
   ]
  },
  {
   "cell_type": "code",
   "execution_count": 10,
   "metadata": {
    "collapsed": true
   },
   "outputs": [],
   "source": [
    "# Returns the best matches for person from the prefs dictionary. \n",
    "# Number of results and similarity function are optional params.\n",
    "def topMatches(prefs,person,n=5,similarity=sim_pearson):\n",
    "    scores=[(similarity(prefs,person,other),other)\n",
    "    for other in prefs if other!=person]\n",
    "    # sort the marks in descending order\n",
    "    scores.sort( )\n",
    "    scores.reverse( )\n",
    "    return scores[0:n]\n"
   ]
  },
  {
   "cell_type": "code",
   "execution_count": 11,
   "metadata": {
    "collapsed": false
   },
   "outputs": [
    {
     "data": {
      "text/plain": [
       "[(0.9912407071619299, 'Lisa Rose'),\n",
       " (0.9244734516419049, 'Mick LaSalle'),\n",
       " (0.8934051474415647, 'Claudia Puig')]"
      ]
     },
     "execution_count": 11,
     "metadata": {},
     "output_type": "execute_result"
    }
   ],
   "source": [
    "topMatches(critics,'Toby',n=3)"
   ]
  },
  {
   "cell_type": "markdown",
   "metadata": {},
   "source": [
    "## Movie recommendation"
   ]
  },
  {
   "cell_type": "code",
   "execution_count": 12,
   "metadata": {
    "collapsed": false
   },
   "outputs": [],
   "source": [
    "# Gets recommendations for a person by using a weighted average\n",
    "# of every other user's rankings\n",
    "def getRecommendations(prefs,person,similarity=sim_pearson):\n",
    "    totals={}\n",
    "    simSums={}\n",
    "    for other in prefs:\n",
    "    # don't compare me to myself\n",
    "        if other==person: continue\n",
    "        sim=similarity(prefs,person,other)\n",
    "    # ignore scores of zero or lower\n",
    "        if sim<=0: continue\n",
    "        for item in prefs[other]:\n",
    "    # only score movies I haven't seen yet\n",
    "            if item not in prefs[person] or prefs[person][item]==0:\n",
    "    # Similarity * Score\n",
    "                totals.setdefault(item,0)\n",
    "                totals[item]+=prefs[other][item]*sim\n",
    "        # Sum of similarities\n",
    "                simSums.setdefault(item,0)\n",
    "                simSums[item]+=sim\n",
    "    # Create the normalized list\n",
    "    rankings=[(total/simSums[item],item) for item,total in totals.items( )]\n",
    "    # Return the sorted list\n",
    "    rankings.sort( )\n",
    "    rankings.reverse( )\n",
    "    return rankings"
   ]
  },
  {
   "cell_type": "code",
   "execution_count": 13,
   "metadata": {
    "collapsed": false
   },
   "outputs": [
    {
     "data": {
      "text/plain": [
       "[(3.3477895267131013, 'The Night Listener'),\n",
       " (2.8325499182641614, 'Lady in the Water'),\n",
       " (2.5309807037655645, 'Just My Luck')]"
      ]
     },
     "execution_count": 13,
     "metadata": {},
     "output_type": "execute_result"
    }
   ],
   "source": [
    "getRecommendations(critics,'Toby')"
   ]
  },
  {
   "cell_type": "code",
   "execution_count": 14,
   "metadata": {
    "collapsed": false
   },
   "outputs": [
    {
     "data": {
      "text/plain": [
       "[(3.5002478401415877, 'The Night Listener'),\n",
       " (2.7561242939959363, 'Lady in the Water'),\n",
       " (2.461988486074374, 'Just My Luck')]"
      ]
     },
     "execution_count": 14,
     "metadata": {},
     "output_type": "execute_result"
    }
   ],
   "source": [
    "getRecommendations(critics,'Toby', sim_distance)"
   ]
  },
  {
   "cell_type": "markdown",
   "metadata": {},
   "source": [
    "## Similarity of items\n",
    "\n",
    "How to change\n",
    "\n",
    "{'Lisa Rose': {'Lady in the Water': 2.5, 'Snakes on a Plane': 3.5},\n",
    "'Gene Seymour': {'Lady in the Water': 3.0, 'Snakes on a Plane': 3.5}}\n",
    "\n",
    "by\n",
    "\n",
    "{'Lady in the Water':{'Lisa Rose':2.5,'Gene Seymour':3.0},\n",
    "'Snakes on a Plane':{'Lisa Rose':3.5,'Gene Seymour':3.5}}?\n"
   ]
  },
  {
   "cell_type": "code",
   "execution_count": 15,
   "metadata": {
    "collapsed": false
   },
   "outputs": [],
   "source": [
    "def transformPrefs(prefs):\n",
    "    result={}\n",
    "    for person in prefs:\n",
    "        for item in prefs[person]:\n",
    "            result.setdefault(item,{})\n",
    "    # Flip item and person\n",
    "            result[item][person]=prefs[person][item]\n",
    "    return result"
   ]
  },
  {
   "cell_type": "code",
   "execution_count": 16,
   "metadata": {
    "collapsed": false
   },
   "outputs": [],
   "source": [
    "movies=transformPrefs(critics)\n"
   ]
  },
  {
   "cell_type": "code",
   "execution_count": 17,
   "metadata": {
    "collapsed": false
   },
   "outputs": [
    {
     "data": {
      "text/plain": [
       "{'Just My Luck': {'Claudia Puig': 3.0,\n",
       "  'Gene Seymour': 1.5,\n",
       "  'Lisa Rose': 3.0,\n",
       "  'Mick LaSalle': 2.0},\n",
       " 'Lady in the Water': {'Gene Seymour': 3.0,\n",
       "  'Jack Matthews': 3.0,\n",
       "  'Lisa Rose': 2.5,\n",
       "  'Michael Phillips': 2.5,\n",
       "  'Mick LaSalle': 3.0},\n",
       " 'Snakes on a Plane': {'Claudia Puig': 3.5,\n",
       "  'Gene Seymour': 3.5,\n",
       "  'Jack Matthews': 4.0,\n",
       "  'Lisa Rose': 3.5,\n",
       "  'Michael Phillips': 3.0,\n",
       "  'Mick LaSalle': 4.0,\n",
       "  'Toby': 4.5},\n",
       " 'Superman Returns': {'Claudia Puig': 4.0,\n",
       "  'Gene Seymour': 5.0,\n",
       "  'Jack Matthews': 5.0,\n",
       "  'Lisa Rose': 3.5,\n",
       "  'Michael Phillips': 3.5,\n",
       "  'Mick LaSalle': 3.0,\n",
       "  'Toby': 4.0},\n",
       " 'The Night Listener': {'Claudia Puig': 4.5,\n",
       "  'Gene Seymour': 3.0,\n",
       "  'Jack Matthews': 3.0,\n",
       "  'Lisa Rose': 3.0,\n",
       "  'Michael Phillips': 4.0,\n",
       "  'Mick LaSalle': 3.0},\n",
       " 'You, Me and Dupree': {'Claudia Puig': 2.5,\n",
       "  'Gene Seymour': 3.5,\n",
       "  'Jack Matthews': 3.5,\n",
       "  'Lisa Rose': 2.5,\n",
       "  'Mick LaSalle': 2.0,\n",
       "  'Toby': 1.0}}"
      ]
     },
     "execution_count": 17,
     "metadata": {},
     "output_type": "execute_result"
    }
   ],
   "source": [
    "movies"
   ]
  },
  {
   "cell_type": "code",
   "execution_count": 18,
   "metadata": {
    "collapsed": false
   },
   "outputs": [
    {
     "data": {
      "text/plain": [
       "[(0.6579516949597695, 'You, Me and Dupree'),\n",
       " (0.4879500364742689, 'Lady in the Water'),\n",
       " (0.11180339887498941, 'Snakes on a Plane'),\n",
       " (-0.1798471947990544, 'The Night Listener'),\n",
       " (-0.42289003161103106, 'Just My Luck')]"
      ]
     },
     "execution_count": 18,
     "metadata": {},
     "output_type": "execute_result"
    }
   ],
   "source": [
    "topMatches(movies,'Superman Returns')"
   ]
  },
  {
   "cell_type": "code",
   "execution_count": 19,
   "metadata": {
    "collapsed": false
   },
   "outputs": [
    {
     "data": {
      "text/plain": [
       "[(4.0, 'Michael Phillips'), (3.0, 'Jack Matthews')]"
      ]
     },
     "execution_count": 19,
     "metadata": {},
     "output_type": "execute_result"
    }
   ],
   "source": [
    "getRecommendations(movies,'Just My Luck')"
   ]
  },
  {
   "cell_type": "markdown",
   "metadata": {},
   "source": [
    "## Item-based collaborative filtering"
   ]
  },
  {
   "cell_type": "code",
   "execution_count": 20,
   "metadata": {
    "collapsed": false
   },
   "outputs": [],
   "source": [
    "def calculateSimilarItems(prefs,n=10):\n",
    "    # Create a dictionary of items showing which other items they\n",
    "    # are most similar to.\n",
    "    result={}\n",
    "    # Invert the preference matrix to be item-centric\n",
    "    itemPrefs=transformPrefs(prefs)\n",
    "    c=0\n",
    "    for item in itemPrefs:\n",
    "    # Status updates for large datasets\n",
    "        c+=1\n",
    "        if c%100==0: print \"%d / %d\" % (c,len(itemPrefs))\n",
    "    # Find the most similar items to this one\n",
    "        scores=topMatches(itemPrefs,item,n=n,similarity=sim_distance)\n",
    "        result[item]=scores\n",
    "    return result"
   ]
  },
  {
   "cell_type": "code",
   "execution_count": 113,
   "metadata": {
    "collapsed": true
   },
   "outputs": [],
   "source": [
    "def calculateSimilarItemsPearson(prefs,n=10):\n",
    "    # Create a dictionary of items showing which other items they\n",
    "    # are most similar to.\n",
    "    result={}\n",
    "    # Invert the preference matrix to be item-centric\n",
    "    itemPrefs=transformPrefs(prefs)\n",
    "    c=0\n",
    "    for item in itemPrefs:\n",
    "    # Status updates for large datasets\n",
    "        c+=1\n",
    "        if c%100==0: print \"%d / %d\" % (c,len(itemPrefs))\n",
    "    # Find the most similar items to this one\n",
    "        scores=topMatches(itemPrefs,item,n=n,similarity=sim_pearson)\n",
    "        result[item]=scores\n",
    "    return result"
   ]
  },
  {
   "cell_type": "code",
   "execution_count": 21,
   "metadata": {
    "collapsed": false
   },
   "outputs": [
    {
     "data": {
      "text/plain": [
       "{'Just My Luck': [(0.2222222222222222, 'Lady in the Water'),\n",
       "  (0.18181818181818182, 'You, Me and Dupree'),\n",
       "  (0.15384615384615385, 'The Night Listener'),\n",
       "  (0.10526315789473684, 'Snakes on a Plane'),\n",
       "  (0.06451612903225806, 'Superman Returns')],\n",
       " 'Lady in the Water': [(0.4, 'You, Me and Dupree'),\n",
       "  (0.2857142857142857, 'The Night Listener'),\n",
       "  (0.2222222222222222, 'Snakes on a Plane'),\n",
       "  (0.2222222222222222, 'Just My Luck'),\n",
       "  (0.09090909090909091, 'Superman Returns')],\n",
       " 'Snakes on a Plane': [(0.2222222222222222, 'Lady in the Water'),\n",
       "  (0.18181818181818182, 'The Night Listener'),\n",
       "  (0.16666666666666666, 'Superman Returns'),\n",
       "  (0.10526315789473684, 'Just My Luck'),\n",
       "  (0.05128205128205128, 'You, Me and Dupree')],\n",
       " 'Superman Returns': [(0.16666666666666666, 'Snakes on a Plane'),\n",
       "  (0.10256410256410256, 'The Night Listener'),\n",
       "  (0.09090909090909091, 'Lady in the Water'),\n",
       "  (0.06451612903225806, 'Just My Luck'),\n",
       "  (0.05333333333333334, 'You, Me and Dupree')],\n",
       " 'The Night Listener': [(0.2857142857142857, 'Lady in the Water'),\n",
       "  (0.18181818181818182, 'Snakes on a Plane'),\n",
       "  (0.15384615384615385, 'Just My Luck'),\n",
       "  (0.14814814814814814, 'You, Me and Dupree'),\n",
       "  (0.10256410256410256, 'Superman Returns')],\n",
       " 'You, Me and Dupree': [(0.4, 'Lady in the Water'),\n",
       "  (0.18181818181818182, 'Just My Luck'),\n",
       "  (0.14814814814814814, 'The Night Listener'),\n",
       "  (0.05333333333333334, 'Superman Returns'),\n",
       "  (0.05128205128205128, 'Snakes on a Plane')]}"
      ]
     },
     "execution_count": 21,
     "metadata": {},
     "output_type": "execute_result"
    }
   ],
   "source": [
    "itemsim=calculateSimilarItems(critics)\n",
    "itemsim"
   ]
  },
  {
   "cell_type": "code",
   "execution_count": 22,
   "metadata": {
    "collapsed": false
   },
   "outputs": [],
   "source": [
    "def getRecommendedItems(prefs,itemMatch,user):\n",
    "    userRatings=prefs[user]\n",
    "    scores={}\n",
    "    totalSim={}\n",
    "\n",
    "    # Loop over items rated by this user\n",
    "    for (item,rating) in userRatings.items():\n",
    "        \n",
    "    # Loop over items similar to this one\n",
    "        for (similarity,item2) in itemMatch[item]:\n",
    "    # Ignore if this user has already rated this item\n",
    "            if item2 in userRatings: continue\n",
    "        # Weighted sum of rating times similarity\n",
    "            scores.setdefault(item2,0)\n",
    "            scores[item2]+=similarity*rating\n",
    "        # Sum of all the similarities\n",
    "            totalSim.setdefault(item2,0)\n",
    "            totalSim[item2]+=similarity\n",
    "            if totalSim[item2]==0: totalSim[item2]=0.0000001 # to avoid division by zero\n",
    "    # Divide each total score by total weighting to get an average\n",
    "    rankings=[(score/totalSim[item],item) for item,score in scores.items( ) ]\n",
    "\n",
    "    # Return the rankings from highest to lowest\n",
    "    rankings.sort( )\n",
    "    rankings.reverse( )\n",
    "    return rankings"
   ]
  },
  {
   "cell_type": "code",
   "execution_count": 23,
   "metadata": {
    "collapsed": false
   },
   "outputs": [
    {
     "data": {
      "text/plain": [
       "[(3.182634730538922, 'The Night Listener'),\n",
       " (2.5983318700614575, 'Just My Luck'),\n",
       " (2.4730878186968837, 'Lady in the Water')]"
      ]
     },
     "execution_count": 23,
     "metadata": {},
     "output_type": "execute_result"
    }
   ],
   "source": [
    "getRecommendedItems(critics,itemsim,'Toby')\n"
   ]
  },
  {
   "cell_type": "markdown",
   "metadata": {},
   "source": [
    "## Recommendations for MovieLens dataset\n",
    "\n",
    "Data source: http://grouplens.org/datasets/movielens/"
   ]
  },
  {
   "cell_type": "code",
   "execution_count": 24,
   "metadata": {
    "collapsed": true
   },
   "outputs": [],
   "source": [
    "def loadMovieLens(path='data/movielens'):\n",
    "# Get movie titles\n",
    "    movies={}\n",
    "    for line in open(path+'/u.item'):\n",
    "        (id,title)=line.split('|')[0:2]\n",
    "        movies[id]=title\n",
    "# Load data\n",
    "    prefs={}\n",
    "    for line in open(path+'/u.data'):\n",
    "        (user,movieid,rating,ts)=line.split('\\t')\n",
    "        prefs.setdefault(user,{})\n",
    "        prefs[user][movies[movieid]]=float(rating)\n",
    "    return prefs"
   ]
  },
  {
   "cell_type": "code",
   "execution_count": 70,
   "metadata": {
    "collapsed": false
   },
   "outputs": [],
   "source": [
    "prefs=loadMovieLens( )\n",
    "prefs['87']"
   ]
  },
  {
   "cell_type": "code",
   "execution_count": null,
   "metadata": {
    "collapsed": false
   },
   "outputs": [],
   "source": [
    "getRecommendations(prefs,'87')[0:30]"
   ]
  },
  {
   "cell_type": "code",
   "execution_count": null,
   "metadata": {
    "collapsed": false
   },
   "outputs": [],
   "source": [
    "itemsim=calculateSimilarItems(prefs,n=50)"
   ]
  },
  {
   "cell_type": "code",
   "execution_count": null,
   "metadata": {
    "collapsed": false
   },
   "outputs": [],
   "source": [
    "getRecommendedItems(prefs,itemsim,'87')[0:30]"
   ]
  },
  {
   "cell_type": "markdown",
   "metadata": {},
   "source": [
    "# Tasks\n",
    "## 1. Comparison of user-based and item-based collaborative filtering (5 out 10)\n",
    "\n",
    "You need to implement MAE and RMSE quality measures to compare user-based and item-based approaches on MovieLens dataset (http://grouplens.org/datasets/movielens/).\n",
    "\n",
    "* The training datasets have file extension '.base'. The training/test datasets' pairs are given as follows u1.base and u1.test, ..., u5.base and u5.test Each pair is a partition of the original data into  80%/20%  for training and test datasets respectively.\n",
    "* For each method (user-based and item-based with vairous similarity measures) plot grpahs of MAE and RMSE agaist the number of nearest neighbours.\n",
    "* If the results' quality is too poor (MAE>2.0) try variants 2.6 and 2.7 from http://files.grouplens.org/papers/FnT%20CF%20Recsys%20Survey.pdf\n",
    "\n"
   ]
  },
  {
   "cell_type": "code",
   "execution_count": 30,
   "metadata": {
    "collapsed": false
   },
   "outputs": [],
   "source": [
    "prefs1={}\n",
    "prefs1test={}\n",
    "path= 'ml-100k'\n",
    "movies={}\n",
    "\n",
    "for line in open(path+'/u.item'):\n",
    "    (id,title)=line.split('|')[0:2]\n",
    "    movies[id]=title\n",
    "\n",
    "for line in open(path+'/u1.base'):\n",
    "    (user,movieid,rating,ts)=line.split('\\t')\n",
    "    prefs1.setdefault(user,{})\n",
    "    prefs1[user][movies[movieid]]=float(rating)\n",
    "    \n",
    "for line in open(path+'/u1.test'):\n",
    "    (user,movieid,rating,ts)=line.split('\\t')\n",
    "    prefs1test.setdefault(user,{})\n",
    "    prefs1test[user][movies[movieid]]=float(rating)\n"
   ]
  },
  {
   "cell_type": "code",
   "execution_count": 29,
   "metadata": {
    "collapsed": false
   },
   "outputs": [
    {
     "name": "stdout",
     "output_type": "stream",
     "text": [
      "134\n",
      "137\n"
     ]
    }
   ],
   "source": [
    "print len(prefs1['1'])\n",
    "print len(prefs1test['1'])"
   ]
  },
  {
   "cell_type": "code",
   "execution_count": 37,
   "metadata": {
    "collapsed": false
   },
   "outputs": [
    {
     "data": {
      "text/plain": [
       "0                  (1.0, 120)\n",
       "1                   (1.0, 46)\n",
       "2                  (1.0, 926)\n",
       "3                    (1.0, 9)\n",
       "4                  (1.0, 898)\n",
       "5                  (1.0, 824)\n",
       "6                  (1.0, 812)\n",
       "7                  (1.0, 740)\n",
       "8                  (1.0, 732)\n",
       "9                  (1.0, 724)\n",
       "10                 (1.0, 616)\n",
       "11                  (1.0, 61)\n",
       "12                 (1.0, 510)\n",
       "13                 (1.0, 485)\n",
       "14                 (1.0, 408)\n",
       "15                 (1.0, 364)\n",
       "16                  (1.0, 29)\n",
       "17                 (1.0, 240)\n",
       "18                 (1.0, 238)\n",
       "19                 (1.0, 229)\n",
       "20                 (1.0, 149)\n",
       "21                 (1.0, 123)\n",
       "22                 (1.0, 656)\n",
       "23                 (1.0, 289)\n",
       "24                 (1.0, 920)\n",
       "25      (0.962250448649, 853)\n",
       "26      (0.960768922831, 520)\n",
       "27      (0.944911182523, 105)\n",
       "28      (0.940752903605, 227)\n",
       "29      (0.912870929175, 224)\n",
       "                ...          \n",
       "912     (-0.591009391923, 38)\n",
       "913    (-0.619047619048, 904)\n",
       "914    (-0.630434782609, 190)\n",
       "915    (-0.643267520903, 607)\n",
       "916     (-0.648885684523, 78)\n",
       "917    (-0.661301972644, 262)\n",
       "918    (-0.693375245282, 673)\n",
       "919      (-0.7453559925, 195)\n",
       "920    (-0.816496580928, 157)\n",
       "921    (-0.829156197589, 358)\n",
       "922    (-0.832050294338, 153)\n",
       "923    (-0.866025403784, 211)\n",
       "924    (-0.935414346693, 565)\n",
       "925     (-0.981980506062, 19)\n",
       "926               (-1.0, 857)\n",
       "927               (-1.0, 783)\n",
       "928               (-1.0, 652)\n",
       "929               (-1.0, 598)\n",
       "930               (-1.0, 589)\n",
       "931               (-1.0, 578)\n",
       "932               (-1.0, 515)\n",
       "933               (-1.0, 431)\n",
       "934               (-1.0, 366)\n",
       "935               (-1.0, 353)\n",
       "936               (-1.0, 245)\n",
       "937               (-1.0, 150)\n",
       "938               (-1.0, 127)\n",
       "939               (-1.0, 112)\n",
       "940               (-1.0, 108)\n",
       "941               (-1.0, 818)\n",
       "dtype: object"
      ]
     },
     "execution_count": 37,
     "metadata": {},
     "output_type": "execute_result"
    }
   ],
   "source": [
    "import pandas as pd\n",
    "toplist = topMatches(prefs1,'1',len(prefs1) )\n",
    "pd_toplist =  pd.Series(toplist)\n",
    "pd_toplist.head(1000)"
   ]
  },
  {
   "cell_type": "markdown",
   "metadata": {},
   "source": [
    "### CHoose 500 first nearest  neighbours for plotting the result"
   ]
  },
  {
   "cell_type": "code",
   "execution_count": 101,
   "metadata": {
    "collapsed": false
   },
   "outputs": [],
   "source": [
    "top_film_names =[None]*500\n",
    "k=0\n",
    "for i in range(500):\n",
    "    top_film_names[k] = toplist[i][1]\n",
    "    k+=1"
   ]
  },
  {
   "cell_type": "code",
   "execution_count": 102,
   "metadata": {
    "collapsed": true
   },
   "outputs": [],
   "source": [
    "import matplotlib.pyplot as plt\n",
    "%matplotlib inline\n",
    "\n",
    "def draw_result_plot(data,title_name,ylabel_):\n",
    "    plt.rcParams['figure.figsize'] = (13, 3)\n",
    "    plt.plot(data)\n",
    "    plt.title(title_name)\n",
    "    plt.xlabel('Number of Neirest neighbours')\n",
    "    plt.ylabel(ylabel_)"
   ]
  },
  {
   "cell_type": "code",
   "execution_count": 134,
   "metadata": {
    "collapsed": false
   },
   "outputs": [],
   "source": [
    "def User_based_Colloborative_filtering_with_distance(top_film_names,based_similarity_flag,rmse_flag):\n",
    "    res = []\n",
    "    neighbors_list = ['1']\n",
    "    x_list = []\n",
    "    k = 0\n",
    "    for index in top_film_names:\n",
    "        k += 1\n",
    "        j = 0\n",
    "        s = 0\n",
    "        neighbors_list.append(index)\n",
    "        p2 = { key:value for key,value in prefs1.items() if key in neighbors_list}\n",
    "        if(based_similarity_flag == 1):\n",
    "            list_of_recomended_film = getRecommendations(p2,'1', similarity = sim_distance)\n",
    "        if(based_similarity_flag == 0):\n",
    "            list_of_recomended_film = getRecommendations(p2,'1')\n",
    "        for i in range(len(list_of_recomended_film)):\n",
    "            if list_of_recomended_film[i][1] in prefs1test['1'].keys():\n",
    "                j = j + 1\n",
    "                if(rmse_flag==0):\n",
    "                    s = s + abs(list_of_recomended_film[i][0] - prefs1test['1'][list_of_recomended_film[i][1]])\n",
    "                if(rmse_flag==1):\n",
    "                    s = s + pow(list_of_recomended_film[i][0] - prefs1test['1'][list_of_recomended_film[i][1]],2)\n",
    "        if j != 0: \n",
    "            res.append(s*1.0/j)\n",
    "        x_list.append(k)\n",
    "    return res"
   ]
  },
  {
   "cell_type": "markdown",
   "metadata": {},
   "source": [
    "### User-based collaborative filtering with distance-based similarity (MAE)"
   ]
  },
  {
   "cell_type": "code",
   "execution_count": 135,
   "metadata": {
    "collapsed": false
   },
   "outputs": [
    {
     "data": {
      "image/png": "[encoded data removed]",
      "text/plain": [
       "<matplotlib.figure.Figure at 0x8e80e80>"
      ]
     },
     "metadata": {},
     "output_type": "display_data"
    }
   ],
   "source": [
    "res = User_based_Colloborative_filtering_with_distance(top_film_names,1,0)\n",
    "draw_result_plot(res,'User-based collaborative filtering with distance-based similarity','MAE' )"
   ]
  },
  {
   "cell_type": "markdown",
   "metadata": {},
   "source": [
    "### User-based Collaborative filtering with Pearson similarity distance (MAE)"
   ]
  },
  {
   "cell_type": "code",
   "execution_count": 136,
   "metadata": {
    "collapsed": false
   },
   "outputs": [
    {
     "data": {
      "image/png": "[encoded data removed]",
      "text/plain": [
       "<matplotlib.figure.Figure at 0x914bc50>"
      ]
     },
     "metadata": {},
     "output_type": "display_data"
    }
   ],
   "source": [
    "res = User_based_Colloborative_filtering_with_distance(top_film_names,0,0)\n",
    "draw_result_plot(res,'User-based Collaborative filtering with Pearson similarity distance','MAE' )"
   ]
  },
  {
   "cell_type": "markdown",
   "metadata": {},
   "source": [
    "### User-based collaborative filtering with Pearson similarity distance (RMSE)"
   ]
  },
  {
   "cell_type": "code",
   "execution_count": 137,
   "metadata": {
    "collapsed": false
   },
   "outputs": [
    {
     "data": {
      "image/png": "[encoded data removed]",
      "text/plain": [
       "<matplotlib.figure.Figure at 0xbb0a5f8>"
      ]
     },
     "metadata": {},
     "output_type": "display_data"
    }
   ],
   "source": [
    "res = User_based_Colloborative_filtering_with_distance(top_film_names,0,1)\n",
    "draw_result_plot(res,'User-based collaborative filtering with Pearson similarity distance','RMSE' )"
   ]
  },
  {
   "cell_type": "markdown",
   "metadata": {},
   "source": [
    "### User-based collaborative filtering with distance-based similarity (RMSE)"
   ]
  },
  {
   "cell_type": "code",
   "execution_count": 138,
   "metadata": {
    "collapsed": false
   },
   "outputs": [
    {
     "data": {
      "image/png": "[encoded data removed]",
      "text/plain": [
       "<matplotlib.figure.Figure at 0x1276fb00>"
      ]
     },
     "metadata": {},
     "output_type": "display_data"
    }
   ],
   "source": [
    "res = User_based_Colloborative_filtering_with_distance(top_film_names,1,1)\n",
    "draw_result_plot(res,'User-based collaborative filtering with distance-based similarity','RMSE' )"
   ]
  },
  {
   "cell_type": "markdown",
   "metadata": {},
   "source": [
    "## Item Based collaborative filtering"
   ]
  },
  {
   "cell_type": "code",
   "execution_count": 142,
   "metadata": {
    "collapsed": true
   },
   "outputs": [],
   "source": [
    "def Item_Based_collaborative_filtering(based_similarity_flag,rmse_flag):\n",
    "    res = []\n",
    "    s = 0\n",
    "    j = 0\n",
    "    if(based_similarity_flag == 0):\n",
    "        itemsim=calculateSimilarItems(prefs1,n=1493)\n",
    "    if(based_similarity_flag == 1):\n",
    "        itemsim=calculateSimilarItemsPearson(prefs1,n=1493)\n",
    "    p2 = { key:value for key,value in prefs1.items() }\n",
    "    list_of_recomended_film = getRecommendedItems(p2,itemsim,'1')\n",
    "    for i in range(len(list_of_recomended_film)):\n",
    "        if list_of_recomended_film[i][1] in prefs1test['1'].keys():\n",
    "            j += 1\n",
    "            if(rmse_flag==0):\n",
    "                s = s + abs(list_of_recomended_film[i][0] - prefs1test['1'][list_of_recomended_film[i][1]])\n",
    "            if(rmse_flag==1):\n",
    "                s = s + pow(list_of_recomended_film[i][0] - prefs1test['1'][list_of_recomended_film[i][1]],2)\n",
    "        if j != 0: \n",
    "            res.append(s*1.0/j)\n",
    "    return res"
   ]
  },
  {
   "cell_type": "code",
   "execution_count": 143,
   "metadata": {
    "collapsed": false
   },
   "outputs": [
    {
     "name": "stdout",
     "output_type": "stream",
     "text": [
      "100 / 1633\n",
      "200 / 1633\n",
      "300 / 1633\n",
      "400 / 1633\n",
      "500 / 1633\n",
      "600 / 1633\n",
      "700 / 1633\n",
      "800 / 1633\n",
      "900 / 1633\n",
      "1000 / 1633\n",
      "1100 / 1633\n",
      "1200 / 1633\n",
      "1300 / 1633\n",
      "1400 / 1633\n",
      "1500 / 1633\n",
      "1600 / 1633\n"
     ]
    },
    {
     "data": {
      "image/png": "[encoded data removed]",
      "text/plain": [
       "<matplotlib.figure.Figure at 0xb7f48d0>"
      ]
     },
     "metadata": {},
     "output_type": "display_data"
    }
   ],
   "source": [
    "res = Item_Based_collaborative_filtering(0,0)\n",
    "draw_result_plot(res,'Item-based collaborative filtering with distance-based similarity','MAE' )"
   ]
  },
  {
   "cell_type": "markdown",
   "metadata": {},
   "source": [
    "### Item-based collaborative filtering with Pearson similarity distance (MAE)"
   ]
  },
  {
   "cell_type": "code",
   "execution_count": 144,
   "metadata": {
    "collapsed": false
   },
   "outputs": [
    {
     "name": "stdout",
     "output_type": "stream",
     "text": [
      "100 / 1633\n",
      "200 / 1633\n",
      "300 / 1633\n",
      "400 / 1633\n",
      "500 / 1633\n",
      "600 / 1633\n",
      "700 / 1633\n",
      "800 / 1633\n",
      "900 / 1633\n",
      "1000 / 1633\n",
      "1100 / 1633\n",
      "1200 / 1633\n",
      "1300 / 1633\n",
      "1400 / 1633\n",
      "1500 / 1633\n",
      "1600 / 1633\n"
     ]
    },
    {
     "data": {
      "image/png": "[encoded data removed]",
      "text/plain": [
       "<matplotlib.figure.Figure at 0xb7e0cf8>"
      ]
     },
     "metadata": {},
     "output_type": "display_data"
    }
   ],
   "source": [
    "res = Item_Based_collaborative_filtering(1,0)\n",
    "draw_result_plot(res,'Item-based collaborative filtering with Pearson similarity distance','MAE' )"
   ]
  },
  {
   "cell_type": "markdown",
   "metadata": {},
   "source": [
    "### Item-based collaborative filtering with distance-based similarity (RMSE"
   ]
  },
  {
   "cell_type": "code",
   "execution_count": 145,
   "metadata": {
    "collapsed": false
   },
   "outputs": [
    {
     "name": "stdout",
     "output_type": "stream",
     "text": [
      "100 / 1633\n",
      "200 / 1633\n",
      "300 / 1633\n",
      "400 / 1633\n",
      "500 / 1633\n",
      "600 / 1633\n",
      "700 / 1633\n",
      "800 / 1633\n",
      "900 / 1633\n",
      "1000 / 1633\n",
      "1100 / 1633\n",
      "1200 / 1633\n",
      "1300 / 1633\n",
      "1400 / 1633\n",
      "1500 / 1633\n",
      "1600 / 1633\n"
     ]
    },
    {
     "data": {
      "image/png": "[encoded data removed]",
      "text/plain": [
       "<matplotlib.figure.Figure at 0x3605978>"
      ]
     },
     "metadata": {},
     "output_type": "display_data"
    }
   ],
   "source": [
    "res = Item_Based_collaborative_filtering(0,1)\n",
    "draw_result_plot(res,'Item-based collaborative filtering with distance-based similarity','RMSE' )"
   ]
  },
  {
   "cell_type": "markdown",
   "metadata": {},
   "source": [
    "### Item-based collaborative filtering with Pearson similarity distance (RMSE)"
   ]
  },
  {
   "cell_type": "code",
   "execution_count": 146,
   "metadata": {
    "collapsed": false
   },
   "outputs": [
    {
     "name": "stdout",
     "output_type": "stream",
     "text": [
      "100 / 1633\n",
      "200 / 1633\n",
      "300 / 1633\n",
      "400 / 1633\n",
      "500 / 1633\n",
      "600 / 1633\n",
      "700 / 1633\n",
      "800 / 1633\n",
      "900 / 1633\n",
      "1000 / 1633\n",
      "1100 / 1633\n",
      "1200 / 1633\n",
      "1300 / 1633\n",
      "1400 / 1633\n",
      "1500 / 1633\n",
      "1600 / 1633\n"
     ]
    },
    {
     "data": {
      "image/png": "[encoded data removed]",
      "text/plain": [
       "<matplotlib.figure.Figure at 0x1a9f5940>"
      ]
     },
     "metadata": {},
     "output_type": "display_data"
    }
   ],
   "source": [
    "res = Item_Based_collaborative_filtering(1,1)\n",
    "draw_result_plot(res,'Item-based collaborative filtering with Pearson similarity distance','RMSE' )"
   ]
  },
  {
   "cell_type": "markdown",
   "metadata": {},
   "source": [
    "The difference between MAE and RMSE is that MAE is more robust to errors. \n",
    "\n",
    "1. Item-based CF with Pearson similarity distance  with MAE is = 1.19\n",
    "2. Item-based CF with distance-based similarity  with MAE is = 1.13\n",
    "3. Item-based CF with Pearson similarity distance  with RMSE is = 1.95\n",
    "4. Item-based CF with distance-based similarity  with RMSE is = 1.88\n",
    "5. User-based CF with distance-based similarity  with MAE is = 1.05\n",
    "6. User-based CF with Pearson similarity distance  with MAE is = 0.97\n",
    "7. User-based CF with distance-based similarity  with RMSE is = 1.1.58\n",
    "8. User-based CF with Pearson similarity distance  with RMSE is = 1.37\n"
   ]
  },
  {
   "cell_type": "markdown",
   "metadata": {},
   "source": [
    "#### The least error gives us 0.97  User-based collaborative filtering with MAE and Pearson similarity distance"
   ]
  },
  {
   "cell_type": "markdown",
   "metadata": {
    "collapsed": true
   },
   "source": [
    "## 2. SVD-based (Singular Value Decomposition) recommendation (5 out 10)\n",
    "\n",
    "* Select a proper SVD-based model's implementation  based on gradient descent: http://www.recsyswiki.com/wiki/Category:Software\n",
    " * E.g., Oscar Celma's implementation: http://ocelma.net/software/python-recsys/build/html/#\n",
    " * FunkSVD  http://lenskit.org/documentation/algorithms/svd/ (see also the original blog for details http://sifter.org/~simon/journal/20061211.html)\n",
    " * Makar Stetsenko implementation: https://github.com/Makazone/2ndYear-TermProject/\n",
    "\n",
    "* Train the model and compare its quality by MAE and RMSE for the same split from Task 1."
   ]
  },
  {
   "cell_type": "code",
   "execution_count": 147,
   "metadata": {
    "collapsed": false
   },
   "outputs": [
    {
     "name": "stdout",
     "output_type": "stream",
     "text": [
      "Populating DB\n",
      "Reading ratings file\n",
      "Training feature #0\n",
      " Iteration #0/10\n",
      " Iteration #1/10\n",
      " Iteration #2/10\n",
      " Iteration #3/10\n",
      " Iteration #4/10\n",
      " Iteration #5/10\n",
      " Iteration #6/10\n",
      " Iteration #7/10\n",
      " Iteration #8/10\n",
      " Iteration #9/10\n",
      "Training feature #1\n",
      " Iteration #0/10\n",
      " Iteration #1/10\n",
      " Iteration #2/10\n",
      " Iteration #3/10\n",
      " Iteration #4/10\n",
      " Iteration #5/10\n",
      " Iteration #6/10\n",
      " Iteration #7/10\n",
      " Iteration #8/10\n",
      " Iteration #9/10\n",
      "Training feature #2\n",
      " Iteration #0/10\n",
      " Iteration #1/10\n",
      " Iteration #2/10\n",
      " Iteration #3/10\n",
      " Iteration #4/10\n",
      " Iteration #5/10\n",
      " Iteration #6/10\n",
      " Iteration #7/10\n",
      " Iteration #8/10\n",
      " Iteration #9/10\n",
      "Training feature #3\n",
      " Iteration #0/10\n",
      " Iteration #1/10\n",
      " Iteration #2/10\n",
      " Iteration #3/10\n",
      " Iteration #4/10\n",
      " Iteration #5/10\n",
      " Iteration #6/10\n",
      " Iteration #7/10\n",
      " Iteration #8/10\n",
      " Iteration #9/10\n",
      "Training feature #4\n",
      " Iteration #0/10\n",
      " Iteration #1/10\n",
      " Iteration #2/10\n",
      " Iteration #3/10\n",
      " Iteration #4/10\n",
      " Iteration #5/10\n",
      " Iteration #6/10\n",
      " Iteration #7/10\n",
      " Iteration #8/10\n",
      " Iteration #9/10\n",
      "Training feature #5\n",
      " Iteration #0/10\n",
      " Iteration #1/10\n",
      " Iteration #2/10\n",
      " Iteration #3/10\n",
      " Iteration #4/10\n",
      " Iteration #5/10\n",
      " Iteration #6/10\n",
      " Iteration #7/10\n",
      " Iteration #8/10\n",
      " Iteration #9/10\n",
      "Training feature #6\n",
      " Iteration #0/10\n",
      " Iteration #1/10\n",
      " Iteration #2/10\n",
      " Iteration #3/10\n",
      " Iteration #4/10\n",
      " Iteration #5/10\n",
      " Iteration #6/10\n",
      " Iteration #7/10\n",
      " Iteration #8/10\n",
      " Iteration #9/10\n",
      "Training feature #7\n",
      " Iteration #0/10\n",
      " Iteration #1/10\n",
      " Iteration #2/10\n",
      " Iteration #3/10\n",
      " Iteration #4/10\n",
      " Iteration #5/10\n",
      " Iteration #6/10\n",
      " Iteration #7/10\n",
      " Iteration #8/10\n",
      " Iteration #9/10\n",
      "Training feature #8\n",
      " Iteration #0/10\n",
      " Iteration #1/10\n",
      " Iteration #2/10\n",
      " Iteration #3/10\n",
      " Iteration #4/10\n",
      " Iteration #5/10\n",
      " Iteration #6/10\n",
      " Iteration #7/10\n",
      " Iteration #8/10\n",
      " Iteration #9/10\n",
      "Training feature #9\n",
      " Iteration #0/10\n",
      " Iteration #1/10\n",
      " Iteration #2/10\n",
      " Iteration #3/10\n",
      " Iteration #4/10\n",
      " Iteration #5/10\n",
      " Iteration #6/10\n",
      " Iteration #7/10\n",
      " Iteration #8/10\n",
      " Iteration #9/10\n",
      "Training feature #10\n",
      " Iteration #0/10\n",
      " Iteration #1/10\n",
      " Iteration #2/10\n",
      " Iteration #3/10\n",
      " Iteration #4/10\n",
      " Iteration #5/10\n",
      " Iteration #6/10\n",
      " Iteration #7/10\n",
      " Iteration #8/10\n",
      " Iteration #9/10\n",
      "Training feature #11\n",
      " Iteration #0/10\n",
      " Iteration #1/10\n",
      " Iteration #2/10\n",
      " Iteration #3/10\n",
      " Iteration #4/10\n",
      " Iteration #5/10\n",
      " Iteration #6/10\n",
      " Iteration #7/10\n",
      " Iteration #8/10\n",
      " Iteration #9/10\n",
      "Training feature #12\n",
      " Iteration #0/10\n",
      " Iteration #1/10\n",
      " Iteration #2/10\n",
      " Iteration #3/10\n",
      " Iteration #4/10\n",
      " Iteration #5/10\n",
      " Iteration #6/10\n",
      " Iteration #7/10\n",
      " Iteration #8/10\n",
      " Iteration #9/10\n",
      "Training feature #13\n",
      " Iteration #0/10\n",
      " Iteration #1/10\n",
      " Iteration #2/10\n",
      " Iteration #3/10\n",
      " Iteration #4/10\n",
      " Iteration #5/10\n",
      " Iteration #6/10\n",
      " Iteration #7/10\n",
      " Iteration #8/10\n",
      " Iteration #9/10\n",
      "Training feature #14\n",
      " Iteration #0/10\n",
      " Iteration #1/10\n",
      " Iteration #2/10\n",
      " Iteration #3/10\n",
      " Iteration #4/10\n",
      " Iteration #5/10\n",
      " Iteration #6/10\n",
      " Iteration #7/10\n",
      " Iteration #8/10\n",
      " Iteration #9/10\n",
      "Evaluating simple SVD\n",
      "reconstruction MAE = 0.718049\n",
      "Total new ratings = 20000\n",
      "MAE on new ratings = 0.758398\n",
      "Total new ratings = 20000\n",
      "RMSE on new ratings = 0.934531\n"
     ]
    }
   ],
   "source": [
    "import svd\n",
    "import User\n",
    "import Film\n",
    "import CASVD\n",
    "import RecSysEvaluator as rseval\n",
    "\n",
    "userDB = {}\n",
    "itemDB = {}\n",
    "occupations = {}\n",
    "\n",
    "print 'Populating DB'\n",
    "\n",
    "# Process user occupation data\n",
    "id = 0\n",
    "for occupation in open('data/u.occupation'):\n",
    "    occupations[occupation[0:len(occupation)-1]] = id\n",
    "    id += 1\n",
    "\n",
    "# Process user data\n",
    "for line in open('data/u.user'):\n",
    "    user = User.User(line)\n",
    "    userDB[user.id] = user\n",
    "\n",
    "# Process item data\n",
    "for line in open('data/u.item'):\n",
    "    item = Film.Film(line)\n",
    "    itemDB[item.id] = item\n",
    "\n",
    "print 'Reading ratings file'\n",
    "\n",
    "# Number users, ratings and items\n",
    "dataInfo = [line.split() for line in open(\"data/u.info\")]\n",
    "\n",
    "# Data set with ratings\n",
    "dataPath = \"data/u1.base\"\n",
    "\n",
    "# Construct dict [(userID, itemID): rating_of_user_to_item]\n",
    "userRatings = {}\n",
    "usersUsed = {}\n",
    "for entry in open(dataPath):\n",
    "    entryComponents = [int(x) for x in entry.split()]\n",
    "    userID = entryComponents[0]-1\n",
    "    itemID = entryComponents[1]-1\n",
    "    rating = entryComponents[2]\n",
    "\n",
    "    userRatings[(userID, itemID)] = rating\n",
    "    usersUsed[userID] = userID\n",
    "\n",
    "dataSize = [len(usersUsed.keys()), int(dataInfo[1][0])] # [number of users, number of items]\n",
    "\n",
    "usersList = []\n",
    "for uid in usersUsed.keys():\n",
    "    usersList.append(userDB[uid])\n",
    "    \n",
    "\n",
    "# Compute simple SVD using stochastic gradient descend (aka FunkSVD)\n",
    "svdModel = svd.SVD(15, dataSize[0], dataSize[1], userRatings)\n",
    "svdModel.findDecomposition()\n",
    "\n",
    "print 'Evaluating simple SVD'\n",
    "simpleSVDEvaluator = rseval.RecSysEvaluator(svdModel.userFeatureMatrix, svdModel.itemFeatureMatrix, userRatings)\n",
    "simpleSVDEvaluator.reconstructionMAE()\n",
    "simpleSVDEvaluator.newRatingsMAE(\"data/u1.test\")\n",
    "simpleSVDEvaluator.newRatingsRMSE(\"data/u1.test\")\n"
   ]
  },
  {
   "cell_type": "markdown",
   "metadata": {},
   "source": [
    "Evaluating simple SVD \n",
    "1. reconstruction MAE = 0.717672\n",
    "   Total new ratings = 20000\n",
    "2. MAE on new ratings = 0.758373\n",
    "    Total new ratings = 20000\n",
    "    RMSE on new ratings = 0.934347\n",
    "### SVD gives us a little bit better result in terms of overall error. \n",
    "SVD with MAE = 0.718\n",
    "User-based CF with MAE = 0.93"
   ]
  },
  {
   "cell_type": "code",
   "execution_count": null,
   "metadata": {
    "collapsed": true
   },
   "outputs": [],
   "source": []
  }
 ],
 "metadata": {
  "kernelspec": {
   "display_name": "Python 2",
   "language": "python",
   "name": "python2"
  },
  "language_info": {
   "codemirror_mode": {
    "name": "ipython",
    "version": 2
   },
   "file_extension": ".py",
   "mimetype": "text/x-python",
   "name": "python",
   "nbconvert_exporter": "python",
   "pygments_lexer": "ipython2",
   "version": "2.7.11"
  },
  "name": "lesson11_recsys.ipynb"
 },
 "nbformat": 4,
 "nbformat_minor": 0
}
